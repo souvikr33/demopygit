{
 "cells": [
  {
   "cell_type": "markdown",
   "metadata": {},
   "source": [
    "# IRIS Data Set Implement Linear Discrimminant Analaysis"
   ]
  },
  {
   "cell_type": "markdown",
   "metadata": {},
   "source": [
    "# Data Ingestion:"
   ]
  },
  {
   "cell_type": "code",
   "execution_count": 33,
   "metadata": {},
   "outputs": [],
   "source": [
    "import numpy as np\n",
    "import pandas as pd\n",
    "import matplotlib.pyplot as plt\n",
    "import seaborn as sns\n",
    "np.set_printoptions(precision=4)"
   ]
  },
  {
   "cell_type": "code",
   "execution_count": 34,
   "metadata": {},
   "outputs": [
    {
     "data": {
      "text/html": [
       "<div>\n",
       "<style scoped>\n",
       "    .dataframe tbody tr th:only-of-type {\n",
       "        vertical-align: middle;\n",
       "    }\n",
       "\n",
       "    .dataframe tbody tr th {\n",
       "        vertical-align: top;\n",
       "    }\n",
       "\n",
       "    .dataframe thead th {\n",
       "        text-align: right;\n",
       "    }\n",
       "</style>\n",
       "<table border=\"1\" class=\"dataframe\">\n",
       "  <thead>\n",
       "    <tr style=\"text-align: right;\">\n",
       "      <th></th>\n",
       "      <th>0</th>\n",
       "      <th>1</th>\n",
       "      <th>2</th>\n",
       "      <th>3</th>\n",
       "      <th>4</th>\n",
       "    </tr>\n",
       "  </thead>\n",
       "  <tbody>\n",
       "    <tr>\n",
       "      <th>0</th>\n",
       "      <td>5.1</td>\n",
       "      <td>3.5</td>\n",
       "      <td>1.4</td>\n",
       "      <td>0.2</td>\n",
       "      <td>Iris-setosa</td>\n",
       "    </tr>\n",
       "    <tr>\n",
       "      <th>1</th>\n",
       "      <td>4.9</td>\n",
       "      <td>3.0</td>\n",
       "      <td>1.4</td>\n",
       "      <td>0.2</td>\n",
       "      <td>Iris-setosa</td>\n",
       "    </tr>\n",
       "    <tr>\n",
       "      <th>2</th>\n",
       "      <td>4.7</td>\n",
       "      <td>3.2</td>\n",
       "      <td>1.3</td>\n",
       "      <td>0.2</td>\n",
       "      <td>Iris-setosa</td>\n",
       "    </tr>\n",
       "    <tr>\n",
       "      <th>3</th>\n",
       "      <td>4.6</td>\n",
       "      <td>3.1</td>\n",
       "      <td>1.5</td>\n",
       "      <td>0.2</td>\n",
       "      <td>Iris-setosa</td>\n",
       "    </tr>\n",
       "    <tr>\n",
       "      <th>4</th>\n",
       "      <td>5.0</td>\n",
       "      <td>3.6</td>\n",
       "      <td>1.4</td>\n",
       "      <td>0.2</td>\n",
       "      <td>Iris-setosa</td>\n",
       "    </tr>\n",
       "  </tbody>\n",
       "</table>\n",
       "</div>"
      ],
      "text/plain": [
       "     0    1    2    3            4\n",
       "0  5.1  3.5  1.4  0.2  Iris-setosa\n",
       "1  4.9  3.0  1.4  0.2  Iris-setosa\n",
       "2  4.7  3.2  1.3  0.2  Iris-setosa\n",
       "3  4.6  3.1  1.5  0.2  Iris-setosa\n",
       "4  5.0  3.6  1.4  0.2  Iris-setosa"
      ]
     },
     "execution_count": 34,
     "metadata": {},
     "output_type": "execute_result"
    }
   ],
   "source": [
    "df = pd.read_csv(\"iris.csv\", header=None)\n",
    "df.head()"
   ]
  },
  {
   "cell_type": "markdown",
   "metadata": {},
   "source": [
    "# Checking null values"
   ]
  },
  {
   "cell_type": "code",
   "execution_count": 35,
   "metadata": {},
   "outputs": [
    {
     "data": {
      "text/plain": [
       "0    0\n",
       "1    0\n",
       "2    0\n",
       "3    0\n",
       "4    0\n",
       "dtype: int64"
      ]
     },
     "execution_count": 35,
     "metadata": {},
     "output_type": "execute_result"
    }
   ],
   "source": [
    "df[df.isnull().any(axis=1)].count()"
   ]
  },
  {
   "cell_type": "code",
   "execution_count": 36,
   "metadata": {},
   "outputs": [
    {
     "name": "stderr",
     "output_type": "stream",
     "text": [
      "E:\\anacondaaaaaaaaaaaaaa\\lib\\site-packages\\seaborn\\axisgrid.py:715: UserWarning: Using the boxplot function without specifying `order` is likely to produce an incorrect plot.\n",
      "  warnings.warn(warning)\n"
     ]
    },
    {
     "data": {
      "text/plain": [
       "<seaborn.axisgrid.FacetGrid at 0x2278ff76ba8>"
      ]
     },
     "execution_count": 36,
     "metadata": {},
     "output_type": "execute_result"
    },
    {
     "data": {
      "image/png": "[encoded data removed]",
      "text/plain": [
       "<Figure size 648x216 with 3 Axes>"
      ]
     },
     "metadata": {
      "needs_background": "light"
     },
     "output_type": "display_data"
    }
   ],
   "source": [
    "a = sns.FacetGrid(df, col=4)\n",
    "a.map(sns.boxplot, 3, color='yellow')"
   ]
  },
  {
   "cell_type": "markdown",
   "metadata": {},
   "source": [
    "# Encode categorical "
   ]
  },
  {
   "cell_type": "code",
   "execution_count": 37,
   "metadata": {},
   "outputs": [
    {
     "data": {
      "text/plain": [
       "array([0, 0, 0, 0, 0, 0, 0, 0, 0, 0, 0, 0, 0, 0, 0, 0, 0, 0, 0, 0, 0, 0,\n",
       "       0, 0, 0, 0, 0, 0, 0, 0, 0, 0, 0, 0, 0, 0, 0, 0, 0, 0, 0, 0, 0, 0,\n",
       "       0, 0, 0, 0, 0, 0, 1, 1, 1, 1, 1, 1, 1, 1, 1, 1, 1, 1, 1, 1, 1, 1,\n",
       "       1, 1, 1, 1, 1, 1, 1, 1, 1, 1, 1, 1, 1, 1, 1, 1, 1, 1, 1, 1, 1, 1,\n",
       "       1, 1, 1, 1, 1, 1, 1, 1, 1, 1, 1, 1, 2, 2, 2, 2, 2, 2, 2, 2, 2, 2,\n",
       "       2, 2, 2, 2, 2, 2, 2, 2, 2, 2, 2, 2, 2, 2, 2, 2, 2, 2, 2, 2, 2, 2,\n",
       "       2, 2, 2, 2, 2, 2, 2, 2, 2, 2, 2, 2, 2, 2, 2, 2, 2, 2])"
      ]
     },
     "execution_count": 37,
     "metadata": {},
     "output_type": "execute_result"
    }
   ],
   "source": [
    "#Encode categorical class labels\n",
    "from sklearn.preprocessing import LabelEncoder\n",
    "class_le = LabelEncoder()\n",
    "y = class_le.fit_transform(df[4].values)\n",
    "y"
   ]
  },
  {
   "cell_type": "markdown",
   "metadata": {},
   "source": [
    "# Standardize features"
   ]
  },
  {
   "cell_type": "code",
   "execution_count": 38,
   "metadata": {},
   "outputs": [
    {
     "data": {
      "text/plain": [
       "array([[-9.0068e-01,  1.0321e+00, -1.3413e+00, -1.3130e+00],\n",
       "       [-1.1430e+00, -1.2496e-01, -1.3413e+00, -1.3130e+00],\n",
       "       [-1.3854e+00,  3.3785e-01, -1.3981e+00, -1.3130e+00],\n",
       "       [-1.5065e+00,  1.0645e-01, -1.2844e+00, -1.3130e+00],\n",
       "       [-1.0218e+00,  1.2635e+00, -1.3413e+00, -1.3130e+00],\n",
       "       [-5.3718e-01,  1.9577e+00, -1.1707e+00, -1.0500e+00],\n",
       "       [-1.5065e+00,  8.0065e-01, -1.3413e+00, -1.1815e+00],\n",
       "       [-1.0218e+00,  8.0065e-01, -1.2844e+00, -1.3130e+00],\n",
       "       [-1.7489e+00, -3.5636e-01, -1.3413e+00, -1.3130e+00],\n",
       "       [-1.1430e+00,  1.0645e-01, -1.2844e+00, -1.4444e+00],\n",
       "       [-5.3718e-01,  1.4949e+00, -1.2844e+00, -1.3130e+00],\n",
       "       [-1.2642e+00,  8.0065e-01, -1.2275e+00, -1.3130e+00],\n",
       "       [-1.2642e+00, -1.2496e-01, -1.3413e+00, -1.4444e+00],\n",
       "       [-1.8700e+00, -1.2496e-01, -1.5119e+00, -1.4444e+00],\n",
       "       [-5.2506e-02,  2.1891e+00, -1.4550e+00, -1.3130e+00],\n",
       "       [-1.7367e-01,  3.1147e+00, -1.2844e+00, -1.0500e+00],\n",
       "       [-5.3718e-01,  1.9577e+00, -1.3981e+00, -1.0500e+00],\n",
       "       [-9.0068e-01,  1.0321e+00, -1.3413e+00, -1.1815e+00],\n",
       "       [-1.7367e-01,  1.7263e+00, -1.1707e+00, -1.1815e+00],\n",
       "       [-9.0068e-01,  1.7263e+00, -1.2844e+00, -1.1815e+00],\n",
       "       [-5.3718e-01,  8.0065e-01, -1.1707e+00, -1.3130e+00],\n",
       "       [-9.0068e-01,  1.4949e+00, -1.2844e+00, -1.0500e+00],\n",
       "       [-1.5065e+00,  1.2635e+00, -1.5687e+00, -1.3130e+00],\n",
       "       [-9.0068e-01,  5.6925e-01, -1.1707e+00, -9.1856e-01],\n",
       "       [-1.2642e+00,  8.0065e-01, -1.0569e+00, -1.3130e+00],\n",
       "       [-1.0218e+00, -1.2496e-01, -1.2275e+00, -1.3130e+00],\n",
       "       [-1.0218e+00,  8.0065e-01, -1.2275e+00, -1.0500e+00],\n",
       "       [-7.7951e-01,  1.0321e+00, -1.2844e+00, -1.3130e+00],\n",
       "       [-7.7951e-01,  8.0065e-01, -1.3413e+00, -1.3130e+00],\n",
       "       [-1.3854e+00,  3.3785e-01, -1.2275e+00, -1.3130e+00],\n",
       "       [-1.2642e+00,  1.0645e-01, -1.2275e+00, -1.3130e+00],\n",
       "       [-5.3718e-01,  8.0065e-01, -1.2844e+00, -1.0500e+00],\n",
       "       [-7.7951e-01,  2.4205e+00, -1.2844e+00, -1.4444e+00],\n",
       "       [-4.1601e-01,  2.6519e+00, -1.3413e+00, -1.3130e+00],\n",
       "       [-1.1430e+00,  1.0645e-01, -1.2844e+00, -1.4444e+00],\n",
       "       [-1.0218e+00,  3.3785e-01, -1.4550e+00, -1.3130e+00],\n",
       "       [-4.1601e-01,  1.0321e+00, -1.3981e+00, -1.3130e+00],\n",
       "       [-1.1430e+00,  1.0645e-01, -1.2844e+00, -1.4444e+00],\n",
       "       [-1.7489e+00, -1.2496e-01, -1.3981e+00, -1.3130e+00],\n",
       "       [-9.0068e-01,  8.0065e-01, -1.2844e+00, -1.3130e+00],\n",
       "       [-1.0218e+00,  1.0321e+00, -1.3981e+00, -1.1815e+00],\n",
       "       [-1.6277e+00, -1.7448e+00, -1.3981e+00, -1.1815e+00],\n",
       "       [-1.7489e+00,  3.3785e-01, -1.3981e+00, -1.3130e+00],\n",
       "       [-1.0218e+00,  1.0321e+00, -1.2275e+00, -7.8708e-01],\n",
       "       [-9.0068e-01,  1.7263e+00, -1.0569e+00, -1.0500e+00],\n",
       "       [-1.2642e+00, -1.2496e-01, -1.3413e+00, -1.1815e+00],\n",
       "       [-9.0068e-01,  1.7263e+00, -1.2275e+00, -1.3130e+00],\n",
       "       [-1.5065e+00,  3.3785e-01, -1.3413e+00, -1.3130e+00],\n",
       "       [-6.5835e-01,  1.4949e+00, -1.2844e+00, -1.3130e+00],\n",
       "       [-1.0218e+00,  5.6925e-01, -1.3413e+00, -1.3130e+00],\n",
       "       [ 1.4015e+00,  3.3785e-01,  5.3530e-01,  2.6470e-01],\n",
       "       [ 6.7450e-01,  3.3785e-01,  4.2156e-01,  3.9617e-01],\n",
       "       [ 1.2803e+00,  1.0645e-01,  6.4903e-01,  3.9617e-01],\n",
       "       [-4.1601e-01, -1.7448e+00,  1.3724e-01,  1.3323e-01],\n",
       "       [ 7.9567e-01, -5.8776e-01,  4.7843e-01,  3.9617e-01],\n",
       "       [-1.7367e-01, -5.8776e-01,  4.2156e-01,  1.3323e-01],\n",
       "       [ 5.5333e-01,  5.6925e-01,  5.3530e-01,  5.2764e-01],\n",
       "       [-1.1430e+00, -1.5134e+00, -2.6082e-01, -2.6119e-01],\n",
       "       [ 9.1684e-01, -3.5636e-01,  4.7843e-01,  1.3323e-01],\n",
       "       [-7.7951e-01, -8.1917e-01,  8.0370e-02,  2.6470e-01],\n",
       "       [-1.0218e+00, -2.4390e+00, -1.4709e-01, -2.6119e-01],\n",
       "       [ 6.8662e-02, -1.2496e-01,  2.5097e-01,  3.9617e-01],\n",
       "       [ 1.8983e-01, -1.9762e+00,  1.3724e-01, -2.6119e-01],\n",
       "       [ 3.1100e-01, -3.5636e-01,  5.3530e-01,  2.6470e-01],\n",
       "       [-2.9484e-01, -3.5636e-01, -9.0227e-02,  1.3323e-01],\n",
       "       [ 1.0380e+00,  1.0645e-01,  3.6470e-01,  2.6470e-01],\n",
       "       [-2.9484e-01, -1.2496e-01,  4.2156e-01,  3.9617e-01],\n",
       "       [-5.2506e-02, -8.1917e-01,  1.9410e-01, -2.6119e-01],\n",
       "       [ 4.3217e-01, -1.9762e+00,  4.2156e-01,  3.9617e-01],\n",
       "       [-2.9484e-01, -1.2820e+00,  8.0370e-02, -1.2972e-01],\n",
       "       [ 6.8662e-02,  3.3785e-01,  5.9216e-01,  7.9059e-01],\n",
       "       [ 3.1100e-01, -5.8776e-01,  1.3724e-01,  1.3323e-01],\n",
       "       [ 5.5333e-01, -1.2820e+00,  6.4903e-01,  3.9617e-01],\n",
       "       [ 3.1100e-01, -5.8776e-01,  5.3530e-01,  1.7530e-03],\n",
       "       [ 6.7450e-01, -3.5636e-01,  3.0783e-01,  1.3323e-01],\n",
       "       [ 9.1684e-01, -1.2496e-01,  3.6470e-01,  2.6470e-01],\n",
       "       [ 1.1592e+00, -5.8776e-01,  5.9216e-01,  2.6470e-01],\n",
       "       [ 1.0380e+00, -1.2496e-01,  7.0589e-01,  6.5912e-01],\n",
       "       [ 1.8983e-01, -3.5636e-01,  4.2156e-01,  3.9617e-01],\n",
       "       [-1.7367e-01, -1.0506e+00, -1.4709e-01, -2.6119e-01],\n",
       "       [-4.1601e-01, -1.5134e+00,  2.3504e-02, -1.2972e-01],\n",
       "       [-4.1601e-01, -1.5134e+00, -3.3361e-02, -2.6119e-01],\n",
       "       [-5.2506e-02, -8.1917e-01,  8.0370e-02,  1.7530e-03],\n",
       "       [ 1.8983e-01, -8.1917e-01,  7.6276e-01,  5.2764e-01],\n",
       "       [-5.3718e-01, -1.2496e-01,  4.2156e-01,  3.9617e-01],\n",
       "       [ 1.8983e-01,  8.0065e-01,  4.2156e-01,  5.2764e-01],\n",
       "       [ 1.0380e+00,  1.0645e-01,  5.3530e-01,  3.9617e-01],\n",
       "       [ 5.5333e-01, -1.7448e+00,  3.6470e-01,  1.3323e-01],\n",
       "       [-2.9484e-01, -1.2496e-01,  1.9410e-01,  1.3323e-01],\n",
       "       [-4.1601e-01, -1.2820e+00,  1.3724e-01,  1.3323e-01],\n",
       "       [-4.1601e-01, -1.0506e+00,  3.6470e-01,  1.7530e-03],\n",
       "       [ 3.1100e-01, -1.2496e-01,  4.7843e-01,  2.6470e-01],\n",
       "       [-5.2506e-02, -1.0506e+00,  1.3724e-01,  1.7530e-03],\n",
       "       [-1.0218e+00, -1.7448e+00, -2.6082e-01, -2.6119e-01],\n",
       "       [-2.9484e-01, -8.1917e-01,  2.5097e-01,  1.3323e-01],\n",
       "       [-1.7367e-01, -1.2496e-01,  2.5097e-01,  1.7530e-03],\n",
       "       [-1.7367e-01, -3.5636e-01,  2.5097e-01,  1.3323e-01],\n",
       "       [ 4.3217e-01, -3.5636e-01,  3.0783e-01,  1.3323e-01],\n",
       "       [-9.0068e-01, -1.2820e+00, -4.3142e-01, -1.2972e-01],\n",
       "       [-1.7367e-01, -5.8776e-01,  1.9410e-01,  1.3323e-01],\n",
       "       [ 5.5333e-01,  5.6925e-01,  1.2745e+00,  1.7109e+00],\n",
       "       [-5.2506e-02, -8.1917e-01,  7.6276e-01,  9.2206e-01],\n",
       "       [ 1.5227e+00, -1.2496e-01,  1.2177e+00,  1.1850e+00],\n",
       "       [ 5.5333e-01, -3.5636e-01,  1.0471e+00,  7.9059e-01],\n",
       "       [ 7.9567e-01, -1.2496e-01,  1.1608e+00,  1.3165e+00],\n",
       "       [ 2.1285e+00, -1.2496e-01,  1.6157e+00,  1.1850e+00],\n",
       "       [-1.1430e+00, -1.2820e+00,  4.2156e-01,  6.5912e-01],\n",
       "       [ 1.7650e+00, -3.5636e-01,  1.4451e+00,  7.9059e-01],\n",
       "       [ 1.0380e+00, -1.2820e+00,  1.1608e+00,  7.9059e-01],\n",
       "       [ 1.6438e+00,  1.2635e+00,  1.3314e+00,  1.7109e+00],\n",
       "       [ 7.9567e-01,  3.3785e-01,  7.6276e-01,  1.0535e+00],\n",
       "       [ 6.7450e-01, -8.1917e-01,  8.7649e-01,  9.2206e-01],\n",
       "       [ 1.1592e+00, -1.2496e-01,  9.9022e-01,  1.1850e+00],\n",
       "       [-1.7367e-01, -1.2820e+00,  7.0589e-01,  1.0535e+00],\n",
       "       [-5.2506e-02, -5.8776e-01,  7.6276e-01,  1.5794e+00],\n",
       "       [ 6.7450e-01,  3.3785e-01,  8.7649e-01,  1.4480e+00],\n",
       "       [ 7.9567e-01, -1.2496e-01,  9.9022e-01,  7.9059e-01],\n",
       "       [ 2.2497e+00,  1.7263e+00,  1.6726e+00,  1.3165e+00],\n",
       "       [ 2.2497e+00, -1.0506e+00,  1.7863e+00,  1.4480e+00],\n",
       "       [ 1.8983e-01, -1.9762e+00,  7.0589e-01,  3.9617e-01],\n",
       "       [ 1.2803e+00,  3.3785e-01,  1.1040e+00,  1.4480e+00],\n",
       "       [-2.9484e-01, -5.8776e-01,  6.4903e-01,  1.0535e+00],\n",
       "       [ 2.2497e+00, -5.8776e-01,  1.6726e+00,  1.0535e+00],\n",
       "       [ 5.5333e-01, -8.1917e-01,  6.4903e-01,  7.9059e-01],\n",
       "       [ 1.0380e+00,  5.6925e-01,  1.1040e+00,  1.1850e+00],\n",
       "       [ 1.6438e+00,  3.3785e-01,  1.2745e+00,  7.9059e-01],\n",
       "       [ 4.3217e-01, -5.8776e-01,  5.9216e-01,  7.9059e-01],\n",
       "       [ 3.1100e-01, -1.2496e-01,  6.4903e-01,  7.9059e-01],\n",
       "       [ 6.7450e-01, -5.8776e-01,  1.0471e+00,  1.1850e+00],\n",
       "       [ 1.6438e+00, -1.2496e-01,  1.1608e+00,  5.2764e-01],\n",
       "       [ 1.8862e+00, -5.8776e-01,  1.3314e+00,  9.2206e-01],\n",
       "       [ 2.4920e+00,  1.7263e+00,  1.5020e+00,  1.0535e+00],\n",
       "       [ 6.7450e-01, -5.8776e-01,  1.0471e+00,  1.3165e+00],\n",
       "       [ 5.5333e-01, -5.8776e-01,  7.6276e-01,  3.9617e-01],\n",
       "       [ 3.1100e-01, -1.0506e+00,  1.0471e+00,  2.6470e-01],\n",
       "       [ 2.2497e+00, -1.2496e-01,  1.3314e+00,  1.4480e+00],\n",
       "       [ 5.5333e-01,  8.0065e-01,  1.0471e+00,  1.5794e+00],\n",
       "       [ 6.7450e-01,  1.0645e-01,  9.9022e-01,  7.9059e-01],\n",
       "       [ 1.8983e-01, -1.2496e-01,  5.9216e-01,  7.9059e-01],\n",
       "       [ 1.2803e+00,  1.0645e-01,  9.3336e-01,  1.1850e+00],\n",
       "       [ 1.0380e+00,  1.0645e-01,  1.0471e+00,  1.5794e+00],\n",
       "       [ 1.2803e+00,  1.0645e-01,  7.6276e-01,  1.4480e+00],\n",
       "       [-5.2506e-02, -8.1917e-01,  7.6276e-01,  9.2206e-01],\n",
       "       [ 1.1592e+00,  3.3785e-01,  1.2177e+00,  1.4480e+00],\n",
       "       [ 1.0380e+00,  5.6925e-01,  1.1040e+00,  1.7109e+00],\n",
       "       [ 1.0380e+00, -1.2496e-01,  8.1962e-01,  1.4480e+00],\n",
       "       [ 5.5333e-01, -1.2820e+00,  7.0589e-01,  9.2206e-01],\n",
       "       [ 7.9567e-01, -1.2496e-01,  8.1962e-01,  1.0535e+00],\n",
       "       [ 4.3217e-01,  8.0065e-01,  9.3336e-01,  1.4480e+00],\n",
       "       [ 6.8662e-02, -1.2496e-01,  7.6276e-01,  7.9059e-01]])"
      ]
     },
     "execution_count": 38,
     "metadata": {},
     "output_type": "execute_result"
    }
   ],
   "source": [
    "#Standardize features\n",
    "from sklearn.preprocessing import StandardScaler\n",
    "stdsc = StandardScaler()\n",
    "X_train_std = stdsc.fit_transform(df.iloc[:,range(0,4)].values)\n",
    "X_train_std"
   ]
  },
  {
   "cell_type": "code",
   "execution_count": 39,
   "metadata": {},
   "outputs": [],
   "source": [
    "# Construct within-class covariant scatter matrix S_W\n",
    "S_W = np.zeros((4,4))\n",
    "for i in range(3):\n",
    "    S_W += np.cov(X_train_std[y==i].T)"
   ]
  },
  {
   "cell_type": "code",
   "execution_count": 40,
   "metadata": {},
   "outputs": [],
   "source": [
    "#Construct between-class scatter matrix S_B\n",
    "N=np.bincount(y) # number of samples for given class\n",
    "vecs=[]\n",
    "[vecs.append(np.mean(X_train_std[y==i],axis=0)) for i in range(3)] # class means\n",
    "mean_overall = np.mean(X_train_std, axis=0) # overall mean\n",
    "S_B=np.zeros((4,4))\n",
    "for i in range(3):\n",
    "    S_B += N[i]*(((vecs[i]-mean_overall).reshape(4,1)).dot(((vecs[i]-mean_overall).reshape(1,4))))\n",
    "    "
   ]
  },
  {
   "cell_type": "markdown",
   "metadata": {},
   "source": [
    "# eigenvalues and eigenvectors"
   ]
  },
  {
   "cell_type": "code",
   "execution_count": 41,
   "metadata": {},
   "outputs": [
    {
     "name": "stdout",
     "output_type": "stream",
     "text": [
      "Eigenvalues in decreasing order:\n",
      "\n",
      "1581.325932186763\n",
      "13.600776328162324\n",
      "2.233044981586705e-13\n",
      "3.7422465181580165e-14\n"
     ]
    }
   ],
   "source": [
    "#Calculate sorted eigenvalues and eigenvectors of inverse(S_W)dot(S_B)\n",
    "eigen_vals, eigen_vecs = np.linalg.eig(np.linalg.inv(S_W).dot(S_B))\n",
    "eigen_pairs = [(np.abs(eigen_vals[i]), eigen_vecs[:,i]) for i in range(len(eigen_vals))]\n",
    "eigen_pairs = sorted(eigen_pairs,key=lambda k: k[0], reverse=True)\n",
    "print('Eigenvalues in decreasing order:\\n')\n",
    "for eigen_val in eigen_pairs:\n",
    "    print(eigen_val[0])"
   ]
  },
  {
   "cell_type": "markdown",
   "metadata": {},
   "source": [
    "# LDA components"
   ]
  },
  {
   "cell_type": "code",
   "execution_count": 42,
   "metadata": {},
   "outputs": [
    {
     "data": {
      "image/png": "[encoded data removed]",
      "text/plain": [
       "<Figure size 432x288 with 1 Axes>"
      ]
     },
     "metadata": {
      "needs_background": "light"
     },
     "output_type": "display_data"
    }
   ],
   "source": [
    "#Plot main LDA components\n",
    "tot = sum(eigen_vals.real)\n",
    "discr = [(i / tot) for i in sorted(eigen_vals.real, reverse=True)]\n",
    "cum_discr = np.cumsum(discr)\n",
    "plt.bar(range(1, 5), discr, width=0.2,alpha=0.5, align='center',label='individual \"discriminability\"')\n",
    "plt.step(range(1, 5), cum_discr, where='mid',label='cumulative \"discriminability\"')\n",
    "plt.ylabel('\"discriminability\" ratio')\n",
    "plt.xlabel('Linear Discriminants')\n",
    "plt.ylim([-0.1, 1.1])\n",
    "plt.legend(loc='best')\n",
    "plt.show()"
   ]
  },
  {
   "cell_type": "code",
   "execution_count": 43,
   "metadata": {},
   "outputs": [],
   "source": [
    "#Project original features onto the new feature space\n",
    "W=np.hstack((eigen_pairs[0][1][:, ].reshape(4,1),eigen_pairs[1][1][:, ].reshape(4,1))).real\n",
    "X_train_lda = X_train_std.dot(W)"
   ]
  },
  {
   "cell_type": "markdown",
   "metadata": {},
   "source": [
    "# transformed features in LDA"
   ]
  },
  {
   "cell_type": "code",
   "execution_count": 44,
   "metadata": {},
   "outputs": [
    {
     "data": {
      "text/html": [
       "<div>\n",
       "<style scoped>\n",
       "    .dataframe tbody tr th:only-of-type {\n",
       "        vertical-align: middle;\n",
       "    }\n",
       "\n",
       "    .dataframe tbody tr th {\n",
       "        vertical-align: top;\n",
       "    }\n",
       "\n",
       "    .dataframe thead th {\n",
       "        text-align: right;\n",
       "    }\n",
       "</style>\n",
       "<table border=\"1\" class=\"dataframe\">\n",
       "  <thead>\n",
       "    <tr style=\"text-align: right;\">\n",
       "      <th></th>\n",
       "      <th>LD1</th>\n",
       "      <th>LD2</th>\n",
       "      <th>class</th>\n",
       "    </tr>\n",
       "  </thead>\n",
       "  <tbody>\n",
       "    <tr>\n",
       "      <th>0</th>\n",
       "      <td>-1.790936</td>\n",
       "      <td>0.115414</td>\n",
       "      <td>0</td>\n",
       "    </tr>\n",
       "    <tr>\n",
       "      <th>1</th>\n",
       "      <td>-1.583202</td>\n",
       "      <td>-0.265463</td>\n",
       "      <td>0</td>\n",
       "    </tr>\n",
       "    <tr>\n",
       "      <th>2</th>\n",
       "      <td>-1.663881</td>\n",
       "      <td>-0.083657</td>\n",
       "      <td>0</td>\n",
       "    </tr>\n",
       "    <tr>\n",
       "      <th>3</th>\n",
       "      <td>-1.514646</td>\n",
       "      <td>-0.225901</td>\n",
       "      <td>0</td>\n",
       "    </tr>\n",
       "    <tr>\n",
       "      <th>4</th>\n",
       "      <td>-1.807076</td>\n",
       "      <td>0.189973</td>\n",
       "      <td>0</td>\n",
       "    </tr>\n",
       "  </tbody>\n",
       "</table>\n",
       "</div>"
      ],
      "text/plain": [
       "        LD1       LD2  class\n",
       "0 -1.790936  0.115414      0\n",
       "1 -1.583202 -0.265463      0\n",
       "2 -1.663881 -0.083657      0\n",
       "3 -1.514646 -0.225901      0\n",
       "4 -1.807076  0.189973      0"
      ]
     },
     "execution_count": 44,
     "metadata": {},
     "output_type": "execute_result"
    }
   ],
   "source": [
    "#Plot transformed features in LDA subspace\n",
    "data=pd.DataFrame(X_train_lda)\n",
    "data['class']=y\n",
    "data.columns=[\"LD1\",\"LD2\",\"class\"]\n",
    "data.head()"
   ]
  },
  {
   "cell_type": "code",
   "execution_count": 45,
   "metadata": {},
   "outputs": [
    {
     "data": {
      "image/png": "[encoded data removed]",
      "text/plain": [
       "<Figure size 360x360 with 1 Axes>"
      ]
     },
     "metadata": {
      "needs_background": "light"
     },
     "output_type": "display_data"
    }
   ],
   "source": [
    "markers = ['s', 'x','o']\n",
    "sns.lmplot(x=\"LD1\", y=\"LD2\", data=data, markers=markers,fit_reg=False, hue='class', legend=False)\n",
    "plt.legend(loc='upper center')\n",
    "plt.show()"
   ]
  },
  {
   "cell_type": "markdown",
   "metadata": {},
   "source": [
    "# LDA implementation using scikit-learn"
   ]
  },
  {
   "cell_type": "code",
   "execution_count": 46,
   "metadata": {},
   "outputs": [
    {
     "data": {
      "text/plain": [
       "array([[-8.085 ,  0.3285],\n",
       "       [-7.1472, -0.7555],\n",
       "       [-7.5114, -0.2381],\n",
       "       [-6.8377, -0.6429],\n",
       "       [-8.1578,  0.5406],\n",
       "       [-7.7236,  1.4823],\n",
       "       [-7.2351,  0.3772],\n",
       "       [-7.6297,  0.0167],\n",
       "       [-6.5827, -0.9874],\n",
       "       [-7.3688, -0.9136],\n",
       "       [-8.4218,  0.6762],\n",
       "       [-7.2474, -0.0829],\n",
       "       [-7.3506, -1.0394],\n",
       "       [-7.5965, -0.7767],\n",
       "       [-9.8694,  1.6149],\n",
       "       [-9.1803,  2.7556],\n",
       "       [-8.5976,  1.8544],\n",
       "       [-7.7996,  0.6091],\n",
       "       [-8.1   ,  0.9961],\n",
       "       [-8.0454,  1.1624],\n",
       "       [-7.5205, -0.1562],\n",
       "       [-7.6053,  1.2276],\n",
       "       [-8.7041,  0.8996],\n",
       "       [-6.2637,  0.4602],\n",
       "       [-6.5919, -0.362 ],\n",
       "       [-6.7921, -0.9382],\n",
       "       [-6.8405,  0.4848],\n",
       "       [-7.9484,  0.2387],\n",
       "       [-8.0121,  0.1163],\n",
       "       [-6.8559, -0.5172],\n",
       "       [-6.783 , -0.7293],\n",
       "       [-7.3867,  0.591 ],\n",
       "       [-9.1625,  1.2509],\n",
       "       [-9.4962,  1.8499],\n",
       "       [-7.3688, -0.9136],\n",
       "       [-7.9757, -0.1352],\n",
       "       [-8.6312,  0.4346],\n",
       "       [-7.3688, -0.9136],\n",
       "       [-6.956 , -0.6789],\n",
       "       [-7.7117,  0.02  ],\n",
       "       [-7.9361,  0.6988],\n",
       "       [-5.6691, -1.9033],\n",
       "       [-7.2656, -0.2479],\n",
       "       [-6.4245,  1.2615],\n",
       "       [-6.8861,  1.0709],\n",
       "       [-6.7799, -0.4782],\n",
       "       [-8.1123,  0.7888],\n",
       "       [-7.211 , -0.3344],\n",
       "       [-8.3399,  0.6729],\n",
       "       [-7.6935, -0.1058],\n",
       "       [ 1.4577,  0.0419],\n",
       "       [ 1.7977,  0.4888],\n",
       "       [ 2.4168, -0.0823],\n",
       "       [ 2.2649, -1.5761],\n",
       "       [ 2.5534, -0.4628],\n",
       "       [ 2.4195, -0.9573],\n",
       "       [ 2.4472,  0.7955],\n",
       "       [ 0.216 , -1.571 ],\n",
       "       [ 1.7459, -0.8053],\n",
       "       [ 1.9584, -0.3504],\n",
       "       [ 1.1902, -2.6156],\n",
       "       [ 1.8614,  0.3205],\n",
       "       [ 1.1539, -2.6169],\n",
       "       [ 2.6594, -0.6341],\n",
       "       [ 0.3802,  0.0921],\n",
       "       [ 1.2028,  0.0956],\n",
       "       [ 2.7627,  0.0316],\n",
       "       [ 0.7623, -1.6392],\n",
       "       [ 3.5094, -1.6725],\n",
       "       [ 1.0841, -1.61  ],\n",
       "       [ 3.719 ,  1.0351],\n",
       "       [ 0.9994, -0.479 ],\n",
       "       [ 3.8371, -1.3949],\n",
       "       [ 2.2434, -1.4108],\n",
       "       [ 1.2543, -0.5328],\n",
       "       [ 1.4395, -0.1231],\n",
       "       [ 2.4592, -0.9196],\n",
       "       [ 3.5247,  0.1638],\n",
       "       [ 2.5897, -0.1708],\n",
       "       [-0.312 , -1.2998],\n",
       "       [ 1.1023, -1.7358],\n",
       "       [ 0.5984, -1.9233],\n",
       "       [ 0.8961, -0.8919],\n",
       "       [ 4.4957, -0.8792],\n",
       "       [ 2.9265,  0.025 ],\n",
       "       [ 2.1012,  1.1872],\n",
       "       [ 2.1437,  0.0971],\n",
       "       [ 2.4834, -1.9219],\n",
       "       [ 1.3179, -0.1575],\n",
       "       [ 1.9553, -1.1451],\n",
       "       [ 2.3891, -1.5824],\n",
       "       [ 2.2861, -0.3256],\n",
       "       [ 1.2693, -1.2004],\n",
       "       [ 0.2889, -1.7832],\n",
       "       [ 2.0008, -0.897 ],\n",
       "       [ 1.1691, -0.5279],\n",
       "       [ 1.6093, -0.4627],\n",
       "       [ 1.4181, -0.5393],\n",
       "       [-0.4727, -0.7892],\n",
       "       [ 1.5456, -0.5852],\n",
       "       [ 7.8561,  2.1116],\n",
       "       [ 5.5157, -0.044 ],\n",
       "       [ 6.305 ,  0.4621],\n",
       "       [ 5.6036, -0.3424],\n",
       "       [ 6.8634,  0.816 ],\n",
       "       [ 7.4248, -0.1726],\n",
       "       [ 4.6809, -0.5076],\n",
       "       [ 6.3137, -0.9607],\n",
       "       [ 6.332 , -1.3772],\n",
       "       [ 6.8729,  2.6946],\n",
       "       [ 4.4536,  1.3369],\n",
       "       [ 5.4611, -0.2104],\n",
       "       [ 5.6768,  0.8244],\n",
       "       [ 5.9741, -0.1046],\n",
       "       [ 6.7878,  1.5745],\n",
       "       [ 5.8287,  1.9894],\n",
       "       [ 5.0664, -0.0273],\n",
       "       [ 6.6085,  1.742 ],\n",
       "       [ 9.1883, -0.7491],\n",
       "       [ 4.7657, -2.1442],\n",
       "       [ 6.2931,  1.6337],\n",
       "       [ 5.3731,  0.6315],\n",
       "       [ 7.5856, -0.9739],\n",
       "       [ 4.3837, -0.1221],\n",
       "       [ 5.7314,  1.2814],\n",
       "       [ 5.2758, -0.0385],\n",
       "       [ 4.0923,  0.1831],\n",
       "       [ 4.0832,  0.5177],\n",
       "       [ 6.5326,  0.2872],\n",
       "       [ 4.5776, -0.8446],\n",
       "       [ 6.235 , -0.7062],\n",
       "       [ 5.2184,  1.4664],\n",
       "       [ 6.818 ,  0.5678],\n",
       "       [ 3.8097, -0.9345],\n",
       "       [ 5.0902, -2.1178],\n",
       "       [ 6.8212,  0.857 ],\n",
       "       [ 6.5419,  2.4186],\n",
       "       [ 4.9936,  0.1849],\n",
       "       [ 3.9466,  0.6074],\n",
       "       [ 5.2216,  1.1361],\n",
       "       [ 6.6786,  1.7853],\n",
       "       [ 5.1369,  1.9764],\n",
       "       [ 5.5157, -0.044 ],\n",
       "       [ 6.812 ,  1.4444],\n",
       "       [ 6.8729,  2.4038],\n",
       "       [ 5.674 ,  1.6613],\n",
       "       [ 5.1971, -0.3655],\n",
       "       [ 4.9817,  0.813 ],\n",
       "       [ 5.9015,  2.3208],\n",
       "       [ 4.684 ,  0.3251]])"
      ]
     },
     "execution_count": 46,
     "metadata": {},
     "output_type": "execute_result"
    }
   ],
   "source": [
    "#LDA implementation using scikit-learn\n",
    "from sklearn.discriminant_analysis import LinearDiscriminantAnalysis\n",
    "lda = LinearDiscriminantAnalysis(n_components=2)\n",
    "X_train_lda = lda.fit_transform(X_train_std, y)\n",
    "X_train_lda"
   ]
  },
  {
   "cell_type": "code",
   "execution_count": 47,
   "metadata": {},
   "outputs": [
    {
     "data": {
      "text/html": [
       "<div>\n",
       "<style scoped>\n",
       "    .dataframe tbody tr th:only-of-type {\n",
       "        vertical-align: middle;\n",
       "    }\n",
       "\n",
       "    .dataframe tbody tr th {\n",
       "        vertical-align: top;\n",
       "    }\n",
       "\n",
       "    .dataframe thead th {\n",
       "        text-align: right;\n",
       "    }\n",
       "</style>\n",
       "<table border=\"1\" class=\"dataframe\">\n",
       "  <thead>\n",
       "    <tr style=\"text-align: right;\">\n",
       "      <th></th>\n",
       "      <th>LD1</th>\n",
       "      <th>LD2</th>\n",
       "      <th>class</th>\n",
       "    </tr>\n",
       "  </thead>\n",
       "  <tbody>\n",
       "    <tr>\n",
       "      <th>0</th>\n",
       "      <td>-8.084953</td>\n",
       "      <td>0.328454</td>\n",
       "      <td>0</td>\n",
       "    </tr>\n",
       "    <tr>\n",
       "      <th>1</th>\n",
       "      <td>-7.147163</td>\n",
       "      <td>-0.755473</td>\n",
       "      <td>0</td>\n",
       "    </tr>\n",
       "    <tr>\n",
       "      <th>2</th>\n",
       "      <td>-7.511378</td>\n",
       "      <td>-0.238078</td>\n",
       "      <td>0</td>\n",
       "    </tr>\n",
       "    <tr>\n",
       "      <th>3</th>\n",
       "      <td>-6.837676</td>\n",
       "      <td>-0.642885</td>\n",
       "      <td>0</td>\n",
       "    </tr>\n",
       "    <tr>\n",
       "      <th>4</th>\n",
       "      <td>-8.157814</td>\n",
       "      <td>0.540639</td>\n",
       "      <td>0</td>\n",
       "    </tr>\n",
       "  </tbody>\n",
       "</table>\n",
       "</div>"
      ],
      "text/plain": [
       "        LD1       LD2  class\n",
       "0 -8.084953  0.328454      0\n",
       "1 -7.147163 -0.755473      0\n",
       "2 -7.511378 -0.238078      0\n",
       "3 -6.837676 -0.642885      0\n",
       "4 -8.157814  0.540639      0"
      ]
     },
     "execution_count": 47,
     "metadata": {},
     "output_type": "execute_result"
    }
   ],
   "source": [
    "data=pd.DataFrame(X_train_lda)\n",
    "data['class']=y\n",
    "data.columns=[\"LD1\",\"LD2\",\"class\"]\n",
    "data.head()"
   ]
  },
  {
   "cell_type": "code",
   "execution_count": 48,
   "metadata": {},
   "outputs": [
    {
     "data": {
      "image/png": "[encoded data removed]",
      "text/plain": [
       "<Figure size 360x360 with 1 Axes>"
      ]
     },
     "metadata": {
      "needs_background": "light"
     },
     "output_type": "display_data"
    }
   ],
   "source": [
    "markers = ['s', 'x','o']\n",
    "colors = ['r', 'b','g']\n",
    "sns.lmplot(x=\"LD1\", y=\"LD2\", data=data, hue='class', markers=markers,fit_reg=False,legend=False)\n",
    "plt.legend(loc='upper center')\n",
    "plt.show()"
   ]
  }
 ],
 "metadata": {
  "kernelspec": {
   "display_name": "Python 3",
   "language": "python",
   "name": "python3"
  },
  "language_info": {
   "codemirror_mode": {
    "name": "ipython",
    "version": 3
   },
   "file_extension": ".py",
   "mimetype": "text/x-python",
   "name": "python",
   "nbconvert_exporter": "python",
   "pygments_lexer": "ipython3",
   "version": "3.7.3"
  }
 },
 "nbformat": 4,
 "nbformat_minor": 2
}
